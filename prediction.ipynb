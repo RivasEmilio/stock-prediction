{
 "cells": [
  {
   "cell_type": "code",
   "execution_count": 1,
   "metadata": {},
   "outputs": [],
   "source": [
    "import numpy as np\n",
    "import matplotlib.pyplot as plt\n",
    "import pandas as pd\n",
    "import requests"
   ]
  },
  {
   "cell_type": "code",
   "execution_count": 2,
   "metadata": {},
   "outputs": [],
   "source": [
    "url = 'https://www.alphavantage.co/query'\n",
    "params = {\n",
    "    'function': 'TIME_SERIES_DAILY',\n",
    "    'symbol': 'TSLA',\n",
    "    'outputsize': 'full',\n",
    "    'apikey': '1SSTSA3XGLWFQLCA'\n",
    "}\n",
    "\n",
    "response = requests.get(url, params=params)\n",
    "# extract the json from the response without the headers and convert it to a dictionary also remove the meta data\n",
    "data = response.json()['Time Series (Daily)']"
   ]
  },
  {
   "cell_type": "code",
   "execution_count": 3,
   "metadata": {},
   "outputs": [
    {
     "name": "stdout",
     "output_type": "stream",
     "text": [
      "         Date    Open      High       Low   Close     Volume\n",
      "0  2023-10-16  250.05  255.3999  248.4800  253.92   88917176\n",
      "1  2023-10-13  258.90  259.6000  250.2200  251.12  102296786\n",
      "2  2023-10-12  262.92  265.4100  256.6307  258.87  111508114\n",
      "3  2023-10-11  266.20  268.6000  260.9000  262.99  103706266\n",
      "4  2023-10-10  257.75  268.9400  257.6500  263.62  122656030\n"
     ]
    }
   ],
   "source": [
    "# convert the dictionary to a dataframe using\n",
    "df = pd.read_csv('TSLA.csv')\n",
    "\n",
    "training_set = df.iloc[:, 1:2].values\n",
    "\n",
    "print(df.head())"
   ]
  },
  {
   "cell_type": "code",
   "execution_count": 4,
   "metadata": {},
   "outputs": [
    {
     "name": "stdout",
     "output_type": "stream",
     "text": [
      "[[0.10263802]\n",
      " [0.10652134]\n",
      " [0.10828529]\n",
      " ...\n",
      " [0.0038877 ]\n",
      " [0.00423435]\n",
      " [0.00125495]]\n"
     ]
    }
   ],
   "source": [
    "from sklearn.preprocessing import MinMaxScaler\n",
    "\n",
    "sc = MinMaxScaler(feature_range=(0,1))\n",
    "\n",
    "training_set_scaled = sc.fit_transform(training_set)\n",
    "\n",
    "# print the first 5 rows of the scaled training set\n",
    "print(training_set_scaled)"
   ]
  },
  {
   "cell_type": "code",
   "execution_count": 5,
   "metadata": {},
   "outputs": [],
   "source": [
    "X_train = []\n",
    "y_train = []\n",
    "for i in range(60, 3340):\n",
    "    X_train.append(training_set_scaled[i-60:i, 0])\n",
    "    y_train.append(training_set_scaled[i, 0])\n",
    "X_train, y_train = np.array(X_train), np.array(y_train)\n",
    "# Reshaping\n",
    "X_train = np.reshape(X_train, (X_train.shape[0], X_train.shape[1], 1))"
   ]
  },
  {
   "cell_type": "code",
   "execution_count": 6,
   "metadata": {},
   "outputs": [
    {
     "name": "stderr",
     "output_type": "stream",
     "text": [
      "2023-10-17 19:24:42.071172: I tensorflow/core/util/port.cc:111] oneDNN custom operations are on. You may see slightly different numerical results due to floating-point round-off errors from different computation orders. To turn them off, set the environment variable `TF_ENABLE_ONEDNN_OPTS=0`.\n",
      "2023-10-17 19:24:42.318422: E tensorflow/compiler/xla/stream_executor/cuda/cuda_dnn.cc:9342] Unable to register cuDNN factory: Attempting to register factory for plugin cuDNN when one has already been registered\n",
      "2023-10-17 19:24:42.318455: E tensorflow/compiler/xla/stream_executor/cuda/cuda_fft.cc:609] Unable to register cuFFT factory: Attempting to register factory for plugin cuFFT when one has already been registered\n",
      "2023-10-17 19:24:42.320256: E tensorflow/compiler/xla/stream_executor/cuda/cuda_blas.cc:1518] Unable to register cuBLAS factory: Attempting to register factory for plugin cuBLAS when one has already been registered\n",
      "2023-10-17 19:24:42.446310: I tensorflow/core/platform/cpu_feature_guard.cc:182] This TensorFlow binary is optimized to use available CPU instructions in performance-critical operations.\n",
      "To enable the following instructions: AVX2 AVX_VNNI FMA, in other operations, rebuild TensorFlow with the appropriate compiler flags.\n"
     ]
    }
   ],
   "source": [
    "from keras.models import Sequential\n",
    "from keras.layers import Dense\n",
    "from keras.layers import LSTM\n",
    "from keras.layers import Dropout"
   ]
  },
  {
   "cell_type": "code",
   "execution_count": 7,
   "metadata": {},
   "outputs": [
    {
     "name": "stderr",
     "output_type": "stream",
     "text": [
      "2023-10-17 19:24:46.081757: I tensorflow/compiler/xla/stream_executor/cuda/cuda_gpu_executor.cc:880] could not open file to read NUMA node: /sys/bus/pci/devices/0000:01:00.0/numa_node\n",
      "Your kernel may have been built without NUMA support.\n",
      "2023-10-17 19:24:46.107884: I tensorflow/compiler/xla/stream_executor/cuda/cuda_gpu_executor.cc:880] could not open file to read NUMA node: /sys/bus/pci/devices/0000:01:00.0/numa_node\n",
      "Your kernel may have been built without NUMA support.\n",
      "2023-10-17 19:24:46.107989: I tensorflow/compiler/xla/stream_executor/cuda/cuda_gpu_executor.cc:880] could not open file to read NUMA node: /sys/bus/pci/devices/0000:01:00.0/numa_node\n",
      "Your kernel may have been built without NUMA support.\n",
      "2023-10-17 19:24:46.110700: I tensorflow/compiler/xla/stream_executor/cuda/cuda_gpu_executor.cc:880] could not open file to read NUMA node: /sys/bus/pci/devices/0000:01:00.0/numa_node\n",
      "Your kernel may have been built without NUMA support.\n",
      "2023-10-17 19:24:46.110732: I tensorflow/compiler/xla/stream_executor/cuda/cuda_gpu_executor.cc:880] could not open file to read NUMA node: /sys/bus/pci/devices/0000:01:00.0/numa_node\n",
      "Your kernel may have been built without NUMA support.\n",
      "2023-10-17 19:24:46.110743: I tensorflow/compiler/xla/stream_executor/cuda/cuda_gpu_executor.cc:880] could not open file to read NUMA node: /sys/bus/pci/devices/0000:01:00.0/numa_node\n",
      "Your kernel may have been built without NUMA support.\n",
      "2023-10-17 19:24:47.572471: I tensorflow/compiler/xla/stream_executor/cuda/cuda_gpu_executor.cc:880] could not open file to read NUMA node: /sys/bus/pci/devices/0000:01:00.0/numa_node\n",
      "Your kernel may have been built without NUMA support.\n",
      "2023-10-17 19:24:47.572573: I tensorflow/compiler/xla/stream_executor/cuda/cuda_gpu_executor.cc:880] could not open file to read NUMA node: /sys/bus/pci/devices/0000:01:00.0/numa_node\n",
      "Your kernel may have been built without NUMA support.\n",
      "2023-10-17 19:24:47.572581: I tensorflow/core/common_runtime/gpu/gpu_device.cc:1977] Could not identify NUMA node of platform GPU id 0, defaulting to 0.  Your kernel may not have been built with NUMA support.\n",
      "2023-10-17 19:24:47.572610: I tensorflow/compiler/xla/stream_executor/cuda/cuda_gpu_executor.cc:880] could not open file to read NUMA node: /sys/bus/pci/devices/0000:01:00.0/numa_node\n",
      "Your kernel may have been built without NUMA support.\n",
      "2023-10-17 19:24:47.572649: I tensorflow/core/common_runtime/gpu/gpu_device.cc:1886] Created device /job:localhost/replica:0/task:0/device:GPU:0 with 5348 MB memory:  -> device: 0, name: NVIDIA GeForce RTX 4070 Laptop GPU, pci bus id: 0000:01:00.0, compute capability: 8.9\n",
      "2023-10-17 19:24:48.202137: I tensorflow/tsl/platform/default/subprocess.cc:304] Start cannot spawn child process: No such file or directory\n"
     ]
    },
    {
     "name": "stdout",
     "output_type": "stream",
     "text": [
      "Epoch 1/100\n"
     ]
    },
    {
     "name": "stderr",
     "output_type": "stream",
     "text": [
      "2023-10-17 19:24:54.207592: I tensorflow/compiler/xla/stream_executor/cuda/cuda_dnn.cc:442] Loaded cuDNN version 8700\n",
      "2023-10-17 19:24:55.146574: I tensorflow/compiler/xla/service/service.cc:168] XLA service 0x7f0cf81db3b0 initialized for platform CUDA (this does not guarantee that XLA will be used). Devices:\n",
      "2023-10-17 19:24:55.146604: I tensorflow/compiler/xla/service/service.cc:176]   StreamExecutor device (0): NVIDIA GeForce RTX 4070 Laptop GPU, Compute Capability 8.9\n",
      "2023-10-17 19:24:55.156510: I tensorflow/compiler/mlir/tensorflow/utils/dump_mlir_util.cc:269] disabling MLIR crash reproducer, set env var `MLIR_CRASH_REPRODUCER_DIRECTORY` to enable.\n",
      "2023-10-17 19:24:55.240557: I ./tensorflow/compiler/jit/device_compiler.h:186] Compiled cluster using XLA!  This line is logged at most once for the lifetime of the process.\n"
     ]
    },
    {
     "name": "stdout",
     "output_type": "stream",
     "text": [
      "103/103 [==============================] - 8s 17ms/step - loss: 0.0042\n",
      "Epoch 2/100\n",
      "103/103 [==============================] - 2s 17ms/step - loss: 0.0022\n",
      "Epoch 3/100\n",
      "103/103 [==============================] - 2s 18ms/step - loss: 0.0017\n",
      "Epoch 4/100\n",
      "103/103 [==============================] - 2s 18ms/step - loss: 0.0017\n",
      "Epoch 5/100\n",
      "103/103 [==============================] - 2s 20ms/step - loss: 0.0014\n",
      "Epoch 6/100\n",
      "103/103 [==============================] - 2s 21ms/step - loss: 0.0013\n",
      "Epoch 7/100\n",
      "103/103 [==============================] - 2s 21ms/step - loss: 0.0012\n",
      "Epoch 8/100\n",
      "103/103 [==============================] - 2s 21ms/step - loss: 0.0010\n",
      "Epoch 9/100\n",
      "103/103 [==============================] - 2s 21ms/step - loss: 0.0011\n",
      "Epoch 10/100\n",
      "103/103 [==============================] - 2s 21ms/step - loss: 9.5434e-04\n",
      "Epoch 11/100\n",
      "103/103 [==============================] - 2s 21ms/step - loss: 9.7896e-04\n",
      "Epoch 12/100\n",
      "103/103 [==============================] - 2s 20ms/step - loss: 7.9187e-04\n",
      "Epoch 13/100\n",
      "103/103 [==============================] - 2s 18ms/step - loss: 8.4976e-04\n",
      "Epoch 14/100\n",
      "103/103 [==============================] - 2s 19ms/step - loss: 8.4421e-04\n",
      "Epoch 15/100\n",
      "103/103 [==============================] - 2s 20ms/step - loss: 7.4166e-04\n",
      "Epoch 16/100\n",
      "103/103 [==============================] - 2s 21ms/step - loss: 8.6843e-04\n",
      "Epoch 17/100\n",
      "103/103 [==============================] - 2s 21ms/step - loss: 7.2172e-04\n",
      "Epoch 18/100\n",
      "103/103 [==============================] - 2s 22ms/step - loss: 7.2433e-04\n",
      "Epoch 19/100\n",
      "103/103 [==============================] - 2s 21ms/step - loss: 6.9743e-04\n",
      "Epoch 20/100\n",
      "103/103 [==============================] - 2s 21ms/step - loss: 7.5285e-04\n",
      "Epoch 21/100\n",
      "103/103 [==============================] - 2s 22ms/step - loss: 6.8700e-04\n",
      "Epoch 22/100\n",
      "103/103 [==============================] - 2s 21ms/step - loss: 6.7035e-04\n",
      "Epoch 23/100\n",
      "103/103 [==============================] - 2s 21ms/step - loss: 6.3428e-04\n",
      "Epoch 24/100\n",
      "103/103 [==============================] - 2s 22ms/step - loss: 6.4276e-04\n",
      "Epoch 25/100\n",
      "103/103 [==============================] - 2s 21ms/step - loss: 5.6885e-04\n",
      "Epoch 26/100\n",
      "103/103 [==============================] - 2s 21ms/step - loss: 6.7838e-04\n",
      "Epoch 27/100\n",
      "103/103 [==============================] - 2s 19ms/step - loss: 7.0537e-04\n",
      "Epoch 28/100\n",
      "103/103 [==============================] - 2s 18ms/step - loss: 6.1524e-04\n",
      "Epoch 29/100\n",
      "103/103 [==============================] - 2s 19ms/step - loss: 5.7738e-04\n",
      "Epoch 30/100\n",
      "103/103 [==============================] - 2s 18ms/step - loss: 6.3041e-04\n",
      "Epoch 31/100\n",
      "103/103 [==============================] - 2s 18ms/step - loss: 6.0551e-04\n",
      "Epoch 32/100\n",
      "103/103 [==============================] - 2s 15ms/step - loss: 6.2036e-04\n",
      "Epoch 33/100\n",
      "103/103 [==============================] - 2s 16ms/step - loss: 5.4224e-04\n",
      "Epoch 34/100\n",
      "103/103 [==============================] - 2s 15ms/step - loss: 5.9102e-04\n",
      "Epoch 35/100\n",
      "103/103 [==============================] - 2s 15ms/step - loss: 5.8640e-04\n",
      "Epoch 36/100\n",
      "103/103 [==============================] - 2s 17ms/step - loss: 5.1130e-04\n",
      "Epoch 37/100\n",
      "103/103 [==============================] - 2s 17ms/step - loss: 5.9876e-04\n",
      "Epoch 38/100\n",
      "103/103 [==============================] - 2s 18ms/step - loss: 5.6558e-04\n",
      "Epoch 39/100\n",
      "103/103 [==============================] - 2s 19ms/step - loss: 5.8045e-04\n",
      "Epoch 40/100\n",
      "103/103 [==============================] - 2s 18ms/step - loss: 5.5931e-04\n",
      "Epoch 41/100\n",
      "103/103 [==============================] - 2s 18ms/step - loss: 5.4886e-04\n",
      "Epoch 42/100\n",
      "103/103 [==============================] - 2s 19ms/step - loss: 6.7705e-04\n",
      "Epoch 43/100\n",
      "103/103 [==============================] - 2s 19ms/step - loss: 4.8979e-04\n",
      "Epoch 44/100\n",
      "103/103 [==============================] - 2s 18ms/step - loss: 6.4204e-04\n",
      "Epoch 45/100\n",
      "103/103 [==============================] - 2s 18ms/step - loss: 5.1249e-04\n",
      "Epoch 46/100\n",
      "103/103 [==============================] - 2s 17ms/step - loss: 5.3520e-04\n",
      "Epoch 47/100\n",
      "103/103 [==============================] - 2s 18ms/step - loss: 5.4306e-04\n",
      "Epoch 48/100\n",
      "103/103 [==============================] - 2s 17ms/step - loss: 5.4869e-04\n",
      "Epoch 49/100\n",
      "103/103 [==============================] - 2s 16ms/step - loss: 5.9194e-04\n",
      "Epoch 50/100\n",
      "103/103 [==============================] - 2s 18ms/step - loss: 6.0822e-04\n",
      "Epoch 51/100\n",
      "103/103 [==============================] - 2s 19ms/step - loss: 5.2591e-04\n",
      "Epoch 52/100\n",
      "103/103 [==============================] - 2s 19ms/step - loss: 5.5441e-04\n",
      "Epoch 53/100\n",
      "103/103 [==============================] - 2s 19ms/step - loss: 5.4928e-04\n",
      "Epoch 54/100\n",
      "103/103 [==============================] - 2s 19ms/step - loss: 5.7256e-04\n",
      "Epoch 55/100\n",
      "103/103 [==============================] - 2s 19ms/step - loss: 5.4949e-04\n",
      "Epoch 56/100\n",
      "103/103 [==============================] - 2s 19ms/step - loss: 5.2238e-04\n",
      "Epoch 57/100\n",
      "103/103 [==============================] - 2s 19ms/step - loss: 5.7936e-04\n",
      "Epoch 58/100\n",
      "103/103 [==============================] - 2s 19ms/step - loss: 6.2303e-04\n",
      "Epoch 59/100\n",
      "103/103 [==============================] - 2s 19ms/step - loss: 5.8654e-04\n",
      "Epoch 60/100\n",
      "103/103 [==============================] - 2s 19ms/step - loss: 5.9951e-04\n",
      "Epoch 61/100\n",
      "103/103 [==============================] - 2s 20ms/step - loss: 5.3182e-04\n",
      "Epoch 62/100\n",
      "103/103 [==============================] - 2s 20ms/step - loss: 5.2178e-04\n",
      "Epoch 63/100\n",
      "103/103 [==============================] - 2s 20ms/step - loss: 5.4705e-04\n",
      "Epoch 64/100\n",
      "103/103 [==============================] - 2s 20ms/step - loss: 4.8391e-04\n",
      "Epoch 65/100\n",
      "103/103 [==============================] - 2s 19ms/step - loss: 5.4245e-04\n",
      "Epoch 66/100\n",
      "103/103 [==============================] - 2s 18ms/step - loss: 4.7669e-04\n",
      "Epoch 67/100\n",
      "103/103 [==============================] - 2s 18ms/step - loss: 4.8712e-04\n",
      "Epoch 68/100\n",
      "103/103 [==============================] - 2s 18ms/step - loss: 5.4752e-04\n",
      "Epoch 69/100\n",
      "103/103 [==============================] - 2s 19ms/step - loss: 5.9072e-04\n",
      "Epoch 70/100\n",
      "103/103 [==============================] - 2s 20ms/step - loss: 5.5097e-04\n",
      "Epoch 71/100\n",
      "103/103 [==============================] - 2s 19ms/step - loss: 5.2433e-04\n",
      "Epoch 72/100\n",
      "103/103 [==============================] - 2s 20ms/step - loss: 5.0175e-04\n",
      "Epoch 73/100\n",
      "103/103 [==============================] - 2s 19ms/step - loss: 5.1199e-04\n",
      "Epoch 74/100\n",
      "103/103 [==============================] - 2s 18ms/step - loss: 5.2129e-04\n",
      "Epoch 75/100\n",
      "103/103 [==============================] - 2s 18ms/step - loss: 4.9372e-04\n",
      "Epoch 76/100\n",
      "103/103 [==============================] - 2s 19ms/step - loss: 5.1085e-04\n",
      "Epoch 77/100\n",
      "103/103 [==============================] - 2s 17ms/step - loss: 4.6144e-04\n",
      "Epoch 78/100\n",
      "103/103 [==============================] - 2s 19ms/step - loss: 5.7318e-04\n",
      "Epoch 79/100\n",
      "103/103 [==============================] - 2s 19ms/step - loss: 4.9200e-04\n",
      "Epoch 80/100\n",
      "103/103 [==============================] - 2s 18ms/step - loss: 4.7962e-04\n",
      "Epoch 81/100\n",
      "103/103 [==============================] - 2s 18ms/step - loss: 4.9004e-04\n",
      "Epoch 82/100\n",
      "103/103 [==============================] - 2s 19ms/step - loss: 5.1140e-04\n",
      "Epoch 83/100\n",
      "103/103 [==============================] - 2s 18ms/step - loss: 4.6775e-04\n",
      "Epoch 84/100\n",
      "103/103 [==============================] - 2s 19ms/step - loss: 5.4111e-04\n",
      "Epoch 85/100\n",
      "103/103 [==============================] - 2s 19ms/step - loss: 4.9281e-04\n",
      "Epoch 86/100\n",
      "103/103 [==============================] - 2s 19ms/step - loss: 5.1656e-04\n",
      "Epoch 87/100\n",
      "103/103 [==============================] - 2s 18ms/step - loss: 5.5329e-04\n",
      "Epoch 88/100\n",
      "103/103 [==============================] - 2s 17ms/step - loss: 4.6474e-04\n",
      "Epoch 89/100\n",
      "103/103 [==============================] - 2s 20ms/step - loss: 5.0380e-04\n",
      "Epoch 90/100\n",
      "103/103 [==============================] - 2s 23ms/step - loss: 5.4779e-04\n",
      "Epoch 91/100\n",
      "103/103 [==============================] - 2s 20ms/step - loss: 5.5282e-04\n",
      "Epoch 92/100\n",
      "103/103 [==============================] - 2s 22ms/step - loss: 5.3968e-04\n",
      "Epoch 93/100\n",
      "103/103 [==============================] - 3s 24ms/step - loss: 4.7802e-04\n",
      "Epoch 94/100\n",
      "103/103 [==============================] - 2s 24ms/step - loss: 4.8537e-04\n",
      "Epoch 95/100\n",
      "103/103 [==============================] - 2s 22ms/step - loss: 5.0031e-04\n",
      "Epoch 96/100\n",
      "103/103 [==============================] - 2s 21ms/step - loss: 4.9773e-04\n",
      "Epoch 97/100\n",
      "103/103 [==============================] - 2s 23ms/step - loss: 4.7581e-04\n",
      "Epoch 98/100\n",
      "103/103 [==============================] - 2s 22ms/step - loss: 5.2553e-04\n",
      "Epoch 99/100\n",
      "103/103 [==============================] - 2s 22ms/step - loss: 4.5600e-04\n",
      "Epoch 100/100\n",
      "103/103 [==============================] - 2s 21ms/step - loss: 5.2895e-04\n"
     ]
    },
    {
     "data": {
      "text/plain": [
       "<keras.src.callbacks.History at 0x7f0dcef18a60>"
      ]
     },
     "execution_count": 7,
     "metadata": {},
     "output_type": "execute_result"
    }
   ],
   "source": [
    "# Initialising the RNN\n",
    "regressor = Sequential()\n",
    "\n",
    "# Adding the first LSTM layer and some Dropout regularisation\n",
    "regressor.add(LSTM(units = 50, return_sequences = True, input_shape = (X_train.shape[1], 1)))\n",
    "regressor.add(Dropout(0.2))\n",
    "# Adding a second LSTM layer and some Dropout regularisation\n",
    "regressor.add(LSTM(units = 50, return_sequences = True))\n",
    "regressor.add(Dropout(0.2))\n",
    "# Adding a third LSTM layer and some Dropout regularisation\n",
    "regressor.add(LSTM(units = 50, return_sequences = True))\n",
    "regressor.add(Dropout(0.2))\n",
    "# Adding a fourth LSTM layer and some Dropout regularisation\n",
    "regressor.add(LSTM(units = 50))\n",
    "regressor.add(Dropout(0.2))\n",
    "# Adding the output layer\n",
    "regressor.add(Dense(units = 1))\n",
    "\n",
    "# Compiling the RNN\n",
    "regressor.compile(optimizer = 'adam', loss = 'mean_squared_error')\n",
    "\n",
    "# Fitting the RNN to the Training set\n",
    "regressor.fit(X_train, y_train, epochs = 100, batch_size = 32)"
   ]
  },
  {
   "cell_type": "code",
   "execution_count": 36,
   "metadata": {},
   "outputs": [],
   "source": [
    "#read only the last 10 days of the stock price\n",
    "dataset_test = pd.read_csv('TSLAREAL.csv')\n",
    "real_stock_price = dataset_test.iloc[:, 1:2].values"
   ]
  },
  {
   "cell_type": "code",
   "execution_count": 39,
   "metadata": {},
   "outputs": [
    {
     "name": "stdout",
     "output_type": "stream",
     "text": [
      "1/1 [==============================] - 0s 38ms/step\n"
     ]
    }
   ],
   "source": [
    "dataset_total = pd.concat((df['Open'], dataset_test['Open']), axis = 0)\n",
    "# get the inputs for the test data\n",
    "inputs = dataset_total[len(dataset_total) - len(dataset_test) - 60:].values\n",
    "inputs = inputs.reshape(-1,1)\n",
    "inputs = sc.transform(inputs)\n",
    "X_test = []\n",
    "\n",
    "for i in range(60, 78):\n",
    "    X_test.append(inputs[i-60:i, 0])\n",
    "X_test = np.array(X_test)\n",
    "X_test = np.reshape(X_test, (X_test.shape[0], X_test.shape[1], 1))\n",
    "predicted_stock_price = regressor.predict(X_test)\n",
    "predicted_stock_price = sc.inverse_transform(predicted_stock_price)\n",
    "\n"
   ]
  },
  {
   "cell_type": "code",
   "execution_count": 40,
   "metadata": {},
   "outputs": [
    {
     "data": {
      "image/png": "[encoded data removed]",
      "text/plain": [
       "<Figure size 720x360 with 1 Axes>"
      ]
     },
     "metadata": {
      "needs_background": "light"
     },
     "output_type": "display_data"
    }
   ],
   "source": [
    "# Visualising the results\n",
    "plt.plot(real_stock_price, color = 'black', label = 'TSLA Stock Price')\n",
    "plt.plot(predicted_stock_price, color = 'green', label = 'Predicted TSLA Stock Price')\n",
    "#make the plot look better\n",
    "plt.rcParams['figure.figsize'] = [10, 5]\n",
    "plt.grid(True)\n",
    "plt.title('TSLA Stock Price Prediction')\n",
    "plt.xlabel('Time')\n",
    "plt.ylabel('TSLA Stock Price')\n",
    "plt.legend()\n",
    "plt.show()"
   ]
  },
  {
   "cell_type": "code",
   "execution_count": 24,
   "metadata": {},
   "outputs": [
    {
     "name": "stdout",
     "output_type": "stream",
     "text": [
      "28.83675332962839\n"
     ]
    }
   ],
   "source": [
    "# convert the results to a dataframe\n",
    "result_df = pd.DataFrame(predicted_stock_price)\n",
    "\n",
    "#convert the real stock price to a dataframe\n",
    "real_stock_price_df = pd.DataFrame(real_stock_price)\n",
    "\n",
    "#calculate the average error of the prediction\n",
    "error = 0\n",
    "for i in range(0, len(real_stock_price_df)):\n",
    "    error += abs(real_stock_price_df.iloc[i,0] - result_df.iloc[i,0])\n",
    "error = error / len(real_stock_price_df)\n",
    "print(error)"
   ]
  }
 ],
 "metadata": {
  "kernelspec": {
   "display_name": "Python 3 (ipykernel)",
   "language": "python",
   "name": "python3"
  },
  "language_info": {
   "codemirror_mode": {
    "name": "ipython",
    "version": 3
   },
   "file_extension": ".py",
   "mimetype": "text/x-python",
   "name": "python",
   "nbconvert_exporter": "python",
   "pygments_lexer": "ipython3",
   "version": "3.10.12"
  }
 },
 "nbformat": 4,
 "nbformat_minor": 4
}
