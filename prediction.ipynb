{
 "cells": [
  {
   "cell_type": "code",
   "execution_count": 6,
   "metadata": {},
   "outputs": [],
   "source": [
    "import numpy as np\n",
    "import matplotlib.pyplot as plt\n",
    "import pandas as pd\n",
    "import requests"
   ]
  },
  {
   "cell_type": "code",
   "execution_count": 19,
   "metadata": {},
   "outputs": [
    {
     "name": "stdout",
     "output_type": "stream",
     "text": [
      "             1. open   2. high    3. low  4. close 5. volume\n",
      "2023-10-09  176.8100  179.0500  175.8000  178.9900  42390772\n",
      "2023-10-06  173.8000  177.9900  173.1800  177.4900  57266675\n",
      "2023-10-05  173.7900  175.4500  172.6800  174.9100  48527918\n",
      "2023-10-04  171.0900  174.2100  170.9700  173.6600  53020286\n",
      "2023-10-03  172.2550  173.6300  170.8200  172.4000  49594613\n"
     ]
    }
   ],
   "source": [
    "url = 'https://www.alphavantage.co/query'\n",
    "params = {\n",
    "    'function': 'TIME_SERIES_DAILY',\n",
    "    'symbol': 'AAPL',\n",
    "    'outputsize': 'full',\n",
    "    'apikey': '1SSTSA3XGLWFQLCA'\n",
    "}\n",
    "\n",
    "response = requests.get(url, params=params)\n",
    "\n",
    "# extract the json from the response without the headers and convert it to a dictionary also remove the meta data\n",
    "data = response.json()['Time Series (Daily)']\n",
    "\n",
    "# convert the dictionary to a dataframe using\n",
    "df = pd.DataFrame.from_dict(data, orient='index')\n",
    "\n",
    "training_set = df.iloc[:, 1:2].values\n",
    "\n",
    "print(df.head())"
   ]
  },
  {
   "cell_type": "code",
   "execution_count": 23,
   "metadata": {},
   "outputs": [
    {
     "name": "stdout",
     "output_type": "stream",
     "text": [
      "[[0.23972365]\n",
      " [0.23819159]\n",
      " [0.23452044]\n",
      " ...\n",
      " [0.10126033]\n",
      " [0.09900561]\n",
      " [0.09756027]]\n"
     ]
    }
   ],
   "source": [
    "from sklearn.preprocessing import MinMaxScaler\n",
    "\n",
    "sc = MinMaxScaler(feature_range=(0,1))\n",
    "\n",
    "training_set_scaled = sc.fit_transform(training_set)\n",
    "\n",
    "# print the first 5 rows of the scaled training set\n",
    "print(training_set_scaled)"
   ]
  }
 ],
 "metadata": {
  "kernelspec": {
   "display_name": "Python 3",
   "language": "python",
   "name": "python3"
  },
  "language_info": {
   "codemirror_mode": {
    "name": "ipython",
    "version": 3
   },
   "file_extension": ".py",
   "mimetype": "text/x-python",
   "name": "python",
   "nbconvert_exporter": "python",
   "pygments_lexer": "ipython3",
   "version": "3.10.7"
  }
 },
 "nbformat": 4,
 "nbformat_minor": 2
}
